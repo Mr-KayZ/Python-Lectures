{
 "cells": [
  {
   "cell_type": "markdown",
   "metadata": {},
   "source": [
    "# Basic Control Flow (if statements)\n",
    "Computers need to decide what to do now and then. Sometimes, it is a logical question.\n",
    "This is where if statements can come in handy."
   ]
  },
  {
   "cell_type": "markdown",
   "metadata": {},
   "source": [
    "### **if statements - Basic stuff**"
   ]
  },
  {
   "cell_type": "markdown",
   "metadata": {},
   "source": [
    "An if statement is a logical expression. A logical expression evaluates to either a true/false.\n",
    "They are used to carry out statements if a certain condition is met.\n",
    "They follow the basic structure of `if (condition):` with the other statements below in indents.\n",
    "Let's take an example. Let's assume a variable of price:"
   ]
  },
  {
   "cell_type": "code",
   "execution_count": null,
   "metadata": {},
   "outputs": [],
   "source": [
    "price = 50\n",
    "\n",
    "# Let's say we want to give out a statement saying the price is too expensive if price > 100.\n",
    "# The price > 100 part can be considered to be the statement, and is used as below:\n",
    "\n",
    "if price > 100:     # The part after if is the condition\n",
    "    print (\"Too expensive!\")    # Note that all these codes in the indents are part of the if.\n",
    "    print (\"Bye!\")              # This one too...\n",
    "\n",
    "print (\"This part is not part of the 'if' statement.\")"
   ]
  },
  {
   "cell_type": "markdown",
   "metadata": {},
   "source": [
    "The text directly above is not in the indent. Therefore it is not part of the if statement.\n",
    "But that is just a hard coded program. What if the user wants to input a value?\n",
    "Then we can use the input method described in section 1.4 - Basic Input-Output.\n",
    "So let the user input a value for price now instead:"
   ]
  },
  {
   "cell_type": "code",
   "execution_count": null,
   "metadata": {},
   "outputs": [],
   "source": [
    "price = input (\"Enter price: \") # Enters a string, so change to float\n",
    "price = float(price)            # Note that we can also change str to float like this.\n",
    "\n",
    "# And the same method like last time:\n",
    "\n",
    "if price > 100:     #The part after if is the condition\n",
    "    print (\"Too expensive!\")    # Note that all these codes in the indents are part of the if.\n",
    "    print (\"Bye!\")              # This one too...\n",
    "\n",
    "print (\"This part is not part of the 'if' statement.\")  "
   ]
  },
  {
   "cell_type": "markdown",
   "metadata": {},
   "source": [
    "### **Comparison operators**\n",
    " Now you may have noticed we used `>`, which in Math represents greater than.\n",
    " So x > y means x is greater than y. Similarly, `<` means less than.\n",
    " So y < x means y is less than x. There are other comparison operators that are used.\n",
    " The following is a list of all comparison operators in Python:\n",
    " - Equal to `==`\n",
    " - Not equal `!=`\n",
    " - Greater than `>`\n",
    " - Less than `<`\n",
    " - Greater than or equal to `>=`\n",
    " - Less than or equal to `<=`\n",
    "\n",
    "Notice how `=` is not part of the list. Instead we have `==`.\n",
    "This is because `=` by itself is an assignment operator. But `==` is a comparison operator.\n",
    "`=` is used to assign a value to a variable.\n",
    "`==` is used to compare 2 values to see if they are equal.\n",
    "\n",
    "Note that if we were to write `=` instead of `==` in an if statement,\n",
    "We will get a syntax error, and the program would not continue..."
   ]
  },
  {
   "cell_type": "markdown",
   "metadata": {},
   "source": [
    "### **The boolean variable**\n",
    "Now we have numbers and all that. What about statements where it is either true or false?\n",
    "This is where a new variable comes in, called boolean.\n",
    "The boolean variable is a variable that holds either `True` or `False`.\n",
    "And it is recognized by all programming languages. See proof:"
   ]
  },
  {
   "cell_type": "code",
   "execution_count": null,
   "metadata": {},
   "outputs": [],
   "source": [
    "Boolean_value = True\n",
    "\n",
    "print (type(Boolean_value)) # Output is <class 'bool'>, bool is short for boolean."
   ]
  },
  {
   "cell_type": "markdown",
   "metadata": {},
   "source": [
    "Now this type can also be used for arguments and such. Instead of typing if x > 3 or so...\n",
    "We can assign a bool variable for the condition instead. For example:"
   ]
  },
  {
   "cell_type": "code",
   "execution_count": null,
   "metadata": {},
   "outputs": [],
   "source": [
    "y = 12\n",
    "x = 10\n",
    "c = y > x\n",
    "\n",
    "print (c)   # Output is True as expected."
   ]
  },
  {
   "cell_type": "markdown",
   "metadata": {},
   "source": [
    "We can also use this in the if function as well. Instead of the condition, we put a boolean:"
   ]
  },
  {
   "cell_type": "code",
   "execution_count": null,
   "metadata": {},
   "outputs": [],
   "source": [
    "Condition = price > 100\n",
    "\n",
    "if Condition:\n",
    "    print (\"Too expensive!\")\n",
    "    print (\"Bye!\")\n",
    "\n",
    "print (\"This part is not part of the 'if' statement.\")"
   ]
  },
  {
   "cell_type": "markdown",
   "metadata": {},
   "source": [
    "And this will work the exact same way as all above statements.\n",
    "Notice that the condition for `if` is either true/false.\n",
    "This means that the if statement only accepts boolean conditions, nothing else!\n",
    "Even if we put numbers such as 10 or 20 inside the if statement like so:"
   ]
  },
  {
   "cell_type": "code",
   "execution_count": null,
   "metadata": {},
   "outputs": [],
   "source": [
    "if 120:\n",
    "    print(True) # Output is true, and will always be true."
   ]
  },
  {
   "cell_type": "markdown",
   "metadata": {},
   "source": [
    "This is because in computer language, 0 is false. Any other value is considered true."
   ]
  },
  {
   "cell_type": "markdown",
   "metadata": {},
   "source": [
    "### **if statements - String Comparison**\n",
    "We can ask the user to input string values to be checked instead. Let's make a small game.\n",
    "We ask the user to input a string value for a fruit name, which will be used in an if-else statement.\n",
    "</end>\n",
    "If the user inputs a correct value, the statement will become true.\n",
    "Otherwise, another output will be given if the statement is false."
   ]
  },
  {
   "cell_type": "code",
   "execution_count": null,
   "metadata": {},
   "outputs": [],
   "source": [
    "user_input = input (\"Guess the name of the fruit: \")\n",
    "\n",
    "fruit = \"orange\"\n",
    "\n",
    "if (fruit == user_input):\n",
    "    print (\"You guessed the correct fruit!\")\n",
    "else:   # This is the else statement. Gets carried out when condition was false.\n",
    "    print (\"Wrong fruit!\")"
   ]
  },
  {
   "cell_type": "markdown",
   "metadata": {},
   "source": [
    "The else statement is only carried out when the if statement is false."
   ]
  },
  {
   "cell_type": "markdown",
   "metadata": {},
   "source": [
    "### **elif statements**\n",
    "\n",
    "Let's talk about the price program\n",
    "We have the usual if and else. But what if we want a conditional else, like else if?\n",
    "Well, we have that! However it is not else if!\n",
    "Python, being too cool for else if uses the function `elif` instead (Because of course it is):"
   ]
  },
  {
   "cell_type": "code",
   "execution_count": null,
   "metadata": {},
   "outputs": [],
   "source": [
    "price = input(\"Enter the price: \")\n",
    "price = float(price)    #Turn it from string to float\n",
    "\n",
    "if price >= 100:    # The initial if condition\n",
    "    print(\"Too expensive!\")\n",
    "    print(\"Bye!\")\n",
    "\n",
    "elif price >= 80:   # This is the first elif block!\n",
    "    print(\"Think about it!\")\n",
    "\n",
    "elif price >= 50:\n",
    "    print(\"It is tempting!\")\n",
    "\n",
    "elif price >= 0:\n",
    "    print(\"Let's buy it!\")\n",
    "\n",
    "else:\n",
    "    print(\"Invalid price! Price must be a positive value!\")\n",
    "\n",
    "print(\"End of program!\")\n",
    "\n",
    "# We can have a lot of elif blocks! Unlimited technically."
   ]
  },
  {
   "cell_type": "markdown",
   "metadata": {},
   "source": [
    "Do note one feature of elif, or any decision structure in most programming languages. They go line-by-line for deciding. So in other words, if we have something like:"
   ]
  },
  {
   "cell_type": "code",
   "execution_count": null,
   "metadata": {},
   "outputs": [],
   "source": [
    "# THIS CODE IS WRONG AND WILL PRODUCE INCORRECT RESULTS\n",
    "\n",
    "price = input(\"Enter the price: \")\n",
    "price = float(price)\n",
    "\n",
    "if price >= 0:\n",
    "    print(\"Let's buy it!\")\n",
    "\n",
    "elif price >= 80:\n",
    "    print(\"Think about it!\")\n",
    "\n",
    "elif price >= 50:\n",
    "    print(\"It is tempting!\")\n",
    "\n",
    "elif price >= 100:\n",
    "    print(\"Too expensive!\")\n",
    "    print(\"Bye!\")\n",
    "\n",
    "else:\n",
    "    print(\"Invalid price! Price must be a positive value!\")\n",
    "\n",
    "print(\"End of program!\")"
   ]
  },
  {
   "cell_type": "markdown",
   "metadata": {},
   "source": [
    "Then no matter what positive value we enter, even if it is above 100, or 80, or even 50, the program will first run into the first statement, which is true as any positive value that is not zero will be greater than zero, and therefore the output of \"Lets buy it!\" will show up.\n",
    "\n",
    "To combat this, we can utilize logic operators such as `and` or `or` (Discussed in next section). The other way is to make it cascading as the first example, with the highest value being placed first, and the lower value coming later, and so on. This way, the program will go line by line and therefore the correct decision will be made accordingly by the program."
   ]
  }
 ],
 "metadata": {
  "language_info": {
   "name": "python"
  },
  "orig_nbformat": 4
 },
 "nbformat": 4,
 "nbformat_minor": 2
}
