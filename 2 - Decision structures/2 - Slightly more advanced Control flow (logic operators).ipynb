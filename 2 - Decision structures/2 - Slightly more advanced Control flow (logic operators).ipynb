{
 "cells": [
  {
   "cell_type": "markdown",
   "metadata": {},
   "source": [
    "# 2.2 - Slightly more advanced Control Flow (Logical Operators)\n",
    "Logic operators are those that combine two or more conditions into one compound condition.\n",
    "The following operators are logical operators:\n",
    "- `and` - Evaluates to true if both the left and right operands are true. Otherwise, false.\n",
    "- `or`  - Evaluates to true if either left/right operand is true. Only false when both are false.\n",
    "- `not` - Evaluates to true if the expression is false. And vice versa.\n",
    "\n",
    "This is how an `and` operator works:"
   ]
  },
  {
   "cell_type": "code",
   "execution_count": null,
   "metadata": {},
   "outputs": [],
   "source": [
    "a = False\n",
    "b = True\n",
    "\n",
    "print(\"The following is for an 'and' operator:\")\n",
    "\n",
    "if (a and b):\n",
    "    print(\"Both values are true!\")\n",
    "else:\n",
    "    print(\"One value is false!\")\n",
    "    \n",
    "# The output is One value is false! because a is false."
   ]
  },
  {
   "cell_type": "markdown",
   "metadata": {},
   "source": [
    "This is how an `or` operator works:"
   ]
  },
  {
   "cell_type": "code",
   "execution_count": null,
   "metadata": {},
   "outputs": [],
   "source": [
    "a = False\n",
    "b = True\n",
    "\n",
    "print(\"The following is for an 'or' operator:\")\n",
    "\n",
    "if (a or b):\n",
    "    print(\"One value is true!\")\n",
    "else:\n",
    "    print(\"Both values are false!\")\n",
    "\n",
    "# The output is One value is true! because b is true."
   ]
  },
  {
   "cell_type": "markdown",
   "metadata": {},
   "source": [
    "This is how a `not` operator works:"
   ]
  },
  {
   "cell_type": "code",
   "execution_count": null,
   "metadata": {},
   "outputs": [],
   "source": [
    "a = False\n",
    "b = True\n",
    "\n",
    "print(\"The following is for a 'not' operator:\")\n",
    "\n",
    "if (not b):\n",
    "    print(\"The value is false!\")\n",
    "else:\n",
    "    print(\"The value is true!\")\n",
    "\n",
    "# The output is The value is true! because b is true."
   ]
  },
  {
   "cell_type": "markdown",
   "metadata": {},
   "source": [
    "It can even work for numbers and such. For example, let's talk about a person's age!\n",
    "Now an age can be between a limit. We can use logical operators as limits.\n",
    "So let's set up an age limit. The user inputs a value for their age, and we can categorize accordingly:\n",
    "- 0 - 4 as baby\n",
    "- 4 - 15 as child\n",
    "- 15 - 18 as teenager\n",
    "- 18 - 30 as young adult\n",
    "- 30 - 60 as middle aged\n",
    "- 60 - 69 as quite old\n",
    "- 69 - Nice\n",
    "- 69 - 90 as very old\n",
    "- 90-122 as ancient.\n",
    "- 122 - Competing for oldest person in the world?\n",
    "- 123+ as nonsense, because no one is that old.\n",
    "\n",
    "That is quite a lot of `if` statements! But the below example will make more sense:"
   ]
  },
  {
   "cell_type": "code",
   "execution_count": null,
   "metadata": {},
   "outputs": [],
   "source": [
    "if (age < 0):\n",
    "    print(\"Invalid age entered. Impossible to be younger than 0.\")\n",
    "\n",
    "elif ( age >= 0 and age <= 3):\n",
    "    print(\"You are a baby! (Which means it is impossible for you to type this.\")\n",
    "    print(\"Someone else typed this for you huh? Not that I care...\")\n",
    "    print(\"Well, okay... Maybe a little. I know you are older!\")\n",
    "\n",
    "elif ( age > 3 and age <= 14):\n",
    "    print(\"You are a child! Quite young to be learning Python no?\")\n",
    "\n",
    "elif ( age > 14 and age <= 18):\n",
    "    print(\"You are a teenager! Now this is a proper age to learn coding.\")\n",
    "\n",
    "elif ( age > 18 and age <= 30 ):\n",
    "    print(\"You are an adult!\")\n",
    "\n",
    "elif ( age > 30 and age <= 60):\n",
    "    print(\"You are middle aged! Don't worry! It is never too late to learn Python!\")\n",
    "\n",
    "elif ( age > 60 and age < 69):\n",
    "    print(\"Quite old for learning, eh? But good nonetheless!\")\n",
    "\n",
    "elif( age == 69):\n",
    "    print(\"Nice\")\n",
    "\n",
    "elif ( age > 69 and age <= 90):\n",
    "    print(\"You are very old...\")\n",
    "    print(\"Aren't you supposed to be in life support?\")\n",
    "\n",
    "elif ( age > 90 and age < 122):\n",
    "    print(\"You are ancient...\")\n",
    "    print(\"How well did the war go? Both I mean.\")\n",
    "\n",
    "elif ( age == 122):\n",
    "    print(\"Either you are lying... (Most likely you are)\")\n",
    "    print(\"Otherwise you are the oldest person in the world!\")\n",
    "\n",
    "elif ( age > 122):\n",
    "    print(\"Nonsense! No person can be that old. You lie!\")\n",
    "\n",
    "else:\n",
    "    print(\"Now I have no idea what you typed to get this comment...\")\n",
    "    print(\"It should be impossible! Hmm... I think I should congratulate you for coming here!\")\n",
    "    print(\"I don't have anything right now... How about this cookie? It is bitten from the side.\")"
   ]
  }
 ],
 "metadata": {
  "language_info": {
   "name": "python"
  },
  "orig_nbformat": 4
 },
 "nbformat": 4,
 "nbformat_minor": 2
}
