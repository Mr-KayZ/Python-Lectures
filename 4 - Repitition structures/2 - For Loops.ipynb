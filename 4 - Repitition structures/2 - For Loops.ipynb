{
 "cells": [
  {
   "cell_type": "markdown",
   "metadata": {},
   "source": [
    "# 4.2 - For Loops\n",
    "\n",
    "Let's talk about other iteration statements.\n",
    "Now in Python, there are 3 types of iteration statements:\n",
    "- While loops - Studied already\n",
    "- For loops\n",
    "- Nested For loops - Basically For loops with extra steps\n",
    "\n",
    "We already studied while loops, so let's get into For loops now shall we?"
   ]
  },
  {
   "cell_type": "markdown",
   "metadata": {},
   "source": [
    "### **For Loops**\n",
    "\n",
    "For loops in Python are used to iterate over items of any sequence, such as a list or string.\n",
    "They follow the structure `for {value} in {sequence}` and the statements after in indents...\n",
    "One notable difference from while loops is the fact they don't need initialization.\n",
    "\n",
    "The for loop can keep on going on until the last item in the for loop is met.\n",
    "This can be achieved with the use of the range function.\n",
    "\n",
    "**Range Function**\n",
    "\n",
    "The `range()` function is a built-in that is used to iterate over a sequence of numbers.\n",
    "It follows this syntax: `range( {start}, {stop}, {Step} )`, with `{step}` being optional.\n",
    "If `{step}` is not specified, it automatically is taken as 1.\n",
    "Pretty simple right? We can use it with for loops to give out a set of numbers.\n",
    "We can even get a user input and output the answer with the range function and `{step}`.\n",
    "\n",
    "Let's say we want odd numbers from 1 to n (included). And we get the user input of n:"
   ]
  },
  {
   "cell_type": "code",
   "execution_count": null,
   "metadata": {},
   "outputs": [],
   "source": [
    "n = int(input(\"Please enter a value of an integer: \"))   # Get user input\n",
    "\n",
    "print (\"The set is: \")  # Starting output statement\n",
    "\n",
    "for i in range( 1 , n + 1 , 2 ):    # This incorporates the use of the range statement.\n",
    "\n",
    "    # The range statement above basically says the following:\n",
    "    # For a number between 1 and n+1 (we wrote n+1 because we want n as well)...\n",
    "    # We give a value of i after every 2 numbers per iteration.\n",
    "    # Since we started with 1, the next number will be 3 (2 steps).\n",
    "    # And so on. This means we will get all odd numbers (since every odd number is separated by 2).\n",
    "\n",
    "    print( i , end = '') # Give output for number. Let's make it look nice.\n",
    "\n",
    "    if ( i < n - 1 ):   # This is for the comma. We don't want a comma on the last line...\n",
    "        print (', ' , end = '')"
   ]
  },
  {
   "cell_type": "markdown",
   "metadata": {},
   "source": [
    "And that is it. The above program gives us all odd numbers to a value inputted by the user.\n",
    "It can be reformatted to give even numbers as well, but you get the idea.\n",
    "For loops can be used with greater flexibility than normal while loops for more specific tasks.\n",
    "\n",
    "Now in while loops, they are carried out until a condition is false.\n",
    "However, for loops don't exactly have a condition. They are used for a sequence.\n",
    "And this is where else statements come in to greater use in for loops.\n",
    "\n",
    "Else statements in for loops get executed when the loop terminates normally.\n",
    "As in it did not encounter any break.\n",
    "This can be useful for giving more unique answers.\n",
    "\n",
    "For example, lets get a user input of an integer number.\n",
    "And the piece of code is supposed to give an output if a certain number is present.\n",
    "Let's get both of them from the user, shall we?\n",
    "\n",
    "First, get user inputs:"
   ]
  },
  {
   "cell_type": "code",
   "execution_count": null,
   "metadata": {},
   "outputs": [],
   "source": [
    "n = input(\"Please enter an integer number: \")\n",
    "\n",
    "digits = [int(x) for x in str(n)]   # Gets an array of strings directly from n using a for loop inside the array.\n",
    "\n",
    "d = int(input(\"Please enter the number you would want to look for in the above number: \"))\n",
    "\n",
    "# And now we implement the for loop with a condition...\n",
    "\n",
    "for i in range( 0 , len(digits) ):  # This goes from 0 till the number of digits of a number...\n",
    "\n",
    "    if ( digits[i] == d ):  # Checking if this digit is equal to the digit being searched for.\n",
    "\n",
    "        print (\"There is a\", d, \"in position\", i+1 , \"of the number!\")  # If it is, print!\n",
    "\n",
    "        break   # End the loop right now, no need to continue.\n",
    "\n",
    "else:\n",
    "\n",
    "    # And this is where the else comes in.\n",
    "    # If there is no number in the above loop, then it completes normally.\n",
    "    # As in, no break occurred. Therefore, we output as such:\n",
    "\n",
    "    print (\"There is no\", d, \"inside the number\", n )"
   ]
  },
  {
   "cell_type": "markdown",
   "metadata": {},
   "source": [
    "And that is how an else statement is used in a for loop."
   ]
  },
  {
   "cell_type": "markdown",
   "metadata": {},
   "source": [
    "### **Nested For Loops**\n",
    "\n",
    "Let's talk about Nested for loops, which are loops within a loop.\n",
    "Nested for loops seem a lot more useful than nested while loops, so therefore we go with this.\n",
    "\n",
    "It follows the exact same format as nested if statements. Not that hard.\n",
    "\n",
    "Let's say we want to print a number and print it the same amount of times.\n",
    "Hence we use a for loop to get the number first, and a nested for loop to print it that number of times.\n",
    "\n",
    "Get user input:"
   ]
  },
  {
   "cell_type": "code",
   "execution_count": null,
   "metadata": {},
   "outputs": [],
   "source": [
    "n = int(input(\"Please enter a number greater than 0: \"))\n",
    "\n",
    "for i in range ( 1, n ):    # Get the number...\n",
    "\n",
    "    for j in range ( 0, i ):    # Get the number of number...\n",
    "\n",
    "        print( i, end = \" \")    # Print it that number of times in one line...\n",
    "    \n",
    "    print() # Go to the next line..."
   ]
  }
 ],
 "metadata": {
  "language_info": {
   "name": "python"
  },
  "orig_nbformat": 4
 },
 "nbformat": 4,
 "nbformat_minor": 2
}
