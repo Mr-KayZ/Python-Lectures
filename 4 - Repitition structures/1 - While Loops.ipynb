{
 "cells": [
  {
   "cell_type": "markdown",
   "metadata": {},
   "source": [
    "# 4.1 - Repetition structures\n",
    "Repetition structures are a fundamental part of any programming language. They allow iterative programming and whatnot to occur, which is very important if we wanna make a program do something or repeat something multiple times, with each iteration bringing in a modification to the \"code\". There are many examples of this, but we will look at the basics of how to make a repetition structure.\n",
    "\n",
    "For basics, we will start with the while loop."
   ]
  },
  {
   "cell_type": "code",
   "execution_count": null,
   "metadata": {},
   "outputs": [],
   "source": [
    "# The while loop follows the general structure as follows:\n",
    "\n",
    "x = 0   # Initialization for the loop (IMPORTANT!)\n",
    "\n",
    "while x < 5:    # This is the test condition. It basically means while x is less than 5.\n",
    "    print (x)   # This is the statement. There can be more than one statement here.\n",
    "    x += 1      # This is the updating expression. It can be anywhere, but it MUST be inside the \"while\" segment.\n",
    "\n",
    "# The above code prints out the numbers from 1-4 (5 is not included because it is not x <= 5)."
   ]
  },
  {
   "cell_type": "markdown",
   "metadata": {},
   "source": [
    "And it is that simple!\n",
    "\n",
    "Now let's consider the uses of while loops. Let's say we want to print a word vertically.\n",
    "Well, this is where the knowledge of strings and such comes in handy."
   ]
  },
  {
   "cell_type": "code",
   "execution_count": null,
   "metadata": {},
   "outputs": [],
   "source": [
    "# First we initialize a string, or get the input of a string:\n",
    "\n",
    "string = input(\"Please enter a string here: \")\n",
    "\n",
    "# New all we got to do is do the usual initialization and such...\n",
    "\n",
    "i = 0\n",
    "\n",
    "while ( i < len(string) ):\n",
    "    \n",
    "    # Now we print line by line:\n",
    "    print(string[i])\n",
    "    i += 1  # Increase amount by 1 every iteration..."
   ]
  },
  {
   "cell_type": "markdown",
   "metadata": {},
   "source": [
    "And the above code prints whatever input you gave vertically in the terminal!\n",
    "\n",
    "We can even make it print backwards:"
   ]
  },
  {
   "cell_type": "code",
   "execution_count": null,
   "metadata": {},
   "outputs": [],
   "source": [
    "string = input(\"Please enter a string here: \")\n",
    "\n",
    "i = len(string) - 1 # i needs to start at the last index...\n",
    "\n",
    "while ( i >= 0):\n",
    "    print (string[i])\n",
    "    i -= 1"
   ]
  },
  {
   "cell_type": "markdown",
   "metadata": {},
   "source": [
    "Remember, this can be used in combination with the formatting knowledge from section 1.4 - Basic Input and Output to give more creative results."
   ]
  },
  {
   "cell_type": "markdown",
   "metadata": {},
   "source": [
    "### **Conditions for while loops**\n",
    "\n",
    "Here we will discuss the nitty gritty details of the while loop and its structure.\n",
    "\n",
    "While loops generally have 3 components:\n",
    "1. Initialization\n",
    "2. Test Condition\n",
    "3. Updating Expression\n",
    "\n",
    "And we see that in action in any while loop:"
   ]
  },
  {
   "cell_type": "code",
   "execution_count": null,
   "metadata": {},
   "outputs": [],
   "source": [
    "import random   # Allows us to use random numbers. This is a library. Will discuss imports at a later time.\n",
    "\n",
    "x = random.randrange (1,12) # Random number generator, but also initialization...\n",
    "\n",
    "while (x > 1) and (x < 10):  # Test condition\n",
    "\n",
    "    print( f\"{x} is in range!\")     # Here we use some output formatting magic.\n",
    "    x = random.randrange (1,12)\n",
    "\n",
    "print (f\"Number {x} is out of range!\")"
   ]
  },
  {
   "cell_type": "markdown",
   "metadata": {},
   "source": [
    "### **Infinite loops and break statements**\n",
    "\n",
    "Now sometimes we may want to utilize a loop known as an infinite loop. This is essentially a loop statement whose condition is set to 1 or true. This will mean it will always run, and there is no need updating expression (usually, utilized a lot in MCUs and embedded processors). The only way to break out of such a loop is to use a `break()` statement which stops the current loop.\n",
    "\n",
    "Lets take an example:"
   ]
  },
  {
   "cell_type": "code",
   "execution_count": null,
   "metadata": {},
   "outputs": [],
   "source": [
    "i = 0   # Counter\n",
    "\n",
    "# Now let's make a loop:\n",
    "\n",
    "while True:\n",
    "\n",
    "    print(i)    # This will print out values of i. First one is 0.\n",
    "\n",
    "    if (i > 5): # This is a condition. Notice that the condition was not stated inside the while...\n",
    "        \n",
    "        break   # This is the most important function. It basically stops the current loop.\n",
    "\n",
    "    i += 1      # This is the updating expression. Depends on the type of program whether it will be used or not."
   ]
  },
  {
   "cell_type": "markdown",
   "metadata": {},
   "source": [
    "The `break` statement is part of a class called jump statements. \n",
    "Jump statements are used to alter the flow of a loop. There are 3 types:\n",
    "- break - Described just now. It terminates the current loop.\n",
    "- continue - Used to skip all remaining statements in the loop and go back to the start.\n",
    "- pass - Does nothing. It makes a controller pass by without executing any code.\n",
    "\n",
    "We will talk about continue and pass statements a bit more closely later on..."
   ]
  },
  {
   "cell_type": "markdown",
   "metadata": {},
   "source": [
    "### **Else statements**\n",
    "Right now, let's talk about else statements for the loops. They can be used in all loops.\n",
    "The else part of a loop is a piece of code that is written after the normal code, like in an if.\n",
    "The else part is executed if the condition in the while loop becomes False.\n",
    "It is used very similarly to if statements, so treat them as such.\n",
    "\n",
    "For example, let's say we want to print out a value of x while x < 5."
   ]
  },
  {
   "cell_type": "code",
   "execution_count": null,
   "metadata": {},
   "outputs": [],
   "source": [
    "x = 1   # Initialization\n",
    "\n",
    "while ( x < 5 ):  # The condition is x < 5, so...\n",
    "\n",
    "   print('inside while loop value of x is ', x )    # Output per line\n",
    "\n",
    "   x = x + 1    # Update the statement\n",
    "   \n",
    "else:\n",
    "\n",
    "   print('inside else value of x is ', x)   # Carried out once condition is false."
   ]
  },
  {
   "cell_type": "markdown",
   "metadata": {},
   "source": [
    "All loops follow a similar format. Don't worry about it too much."
   ]
  }
 ],
 "metadata": {
  "language_info": {
   "name": "python"
  },
  "orig_nbformat": 4
 },
 "nbformat": 4,
 "nbformat_minor": 2
}
