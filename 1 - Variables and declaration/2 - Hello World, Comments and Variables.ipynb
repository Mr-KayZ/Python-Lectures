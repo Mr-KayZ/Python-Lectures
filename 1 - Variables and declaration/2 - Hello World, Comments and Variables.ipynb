{
 "cells": [
  {
   "cell_type": "markdown",
   "metadata": {},
   "source": [
    "# Hello World, Comments and variables\n",
    "\n",
    "We will begin by typing out every programmers first ever program in any programming language: Hello world!"
   ]
  },
  {
   "cell_type": "code",
   "execution_count": null,
   "metadata": {},
   "outputs": [],
   "source": [
    "# Comments in Python are written using #. And also note that python files have the .py extension.\n",
    "# Anyhow, this code does exactly what you think: Prints a simple text to the console: Hello world!\n",
    "print(\"Hello world!\")"
   ]
  },
  {
   "cell_type": "markdown",
   "metadata": {},
   "source": [
    "### **How to comment**\n",
    "\n",
    "In case you are new, here is the brief: Comments are good practice. It is really makes the program a lot easier to read.\n",
    "To comment, We use `#` before the start (such as show above). This makes the whole line a comment.\n",
    "Of course anything before the `#` does not count."
   ]
  },
  {
   "cell_type": "code",
   "execution_count": null,
   "metadata": {},
   "outputs": [],
   "source": [
    "print (\"Hello World! x 2\") # Like this comment does not affect the code."
   ]
  },
  {
   "cell_type": "markdown",
   "metadata": {},
   "source": [
    "Now if you did C++/C before, in Python, `#` indicates the comment.\n",
    "In C++, `//` indicates the comment. Also `/* (comment here) */`\n",
    "In Python, it doesn't work that way.\n",
    "We cannot end a comment in Python. Or maybe I have not figured it out."
   ]
  },
  {
   "cell_type": "markdown",
   "metadata": {},
   "source": [
    "### **Variables**\n",
    "\n",
    "What are variables? Variables are containers to store data.\n",
    "And it can be any type of data, for example...\n",
    "Integers: 1, 2, 3...\n",
    "Float: 1.0, 2.0, 3.0...\n",
    "String: \"Hello!\"\n",
    "\n"
   ]
  },
  {
   "cell_type": "markdown",
   "metadata": {},
   "source": [
    "Now the question remains, How do we store the data?\n",
    "In C++/C, we needed to define what type of variable it was first.\n",
    "Then we are allowed to write in the value. For Python, this is not the case.\n",
    "Python has no need for such commands for declaring a variable. (Creating it!)\n",
    "We simply write the variable name. The name can be anything...\n",
    "However there are naming conventions to variable naming.\n",
    "We will get to those later. For now, lets choose 3 variables.\n",
    "And let's see how Python automatically assigns them the data type:"
   ]
  },
  {
   "cell_type": "code",
   "execution_count": null,
   "metadata": {},
   "outputs": [],
   "source": [
    "x = 5       # Python automatically makes this an integer.\n",
    "y = 5.0     # This time it is float (because of the decimal.)\n",
    "z = \"Kazi\"  # This one is a string.\n",
    "\n",
    "# We can display an output by using the print() function, like so:\n",
    "\n",
    "print (x, y, z) # Output is 5 5.0 Kazi ."
   ]
  },
  {
   "cell_type": "markdown",
   "metadata": {},
   "source": [
    "We use a comma to separate the things we want to print.\n",
    "Sometimes, we can use the print statement without even using a variable.\n",
    "Simply write what we would have written for the value of variable:"
   ]
  },
  {
   "cell_type": "code",
   "execution_count": null,
   "metadata": {},
   "outputs": [],
   "source": [
    "print (\"As in we can write like this.\")\n",
    "# Output is As in we can write like this.\n",
    "\n",
    "print (\"We can also add variables beside this statement:\", y)\n",
    "# Output is We can also add variables beside this statement: 5.0."
   ]
  },
  {
   "cell_type": "markdown",
   "metadata": {},
   "source": [
    "Now what about a value changing? Let's take z for instance...\n",
    "Z was initialized automatically as a string by Python.\n",
    "But it can be reinitialized as another data type:\n"
   ]
  },
  {
   "cell_type": "code",
   "execution_count": null,
   "metadata": {},
   "outputs": [],
   "source": [
    "z = 20  # Now Z is an integer!\n",
    "\n",
    "# Let us print the value to be double sure:\n",
    "\n",
    "print (z)   #Output is 20."
   ]
  },
  {
   "cell_type": "markdown",
   "metadata": {},
   "source": [
    "These can be considered the general takeaways for this section:\n",
    "- You do NOT need to declare a variable with a particular type.\n",
    "- The type of a variable can change even after being set."
   ]
  },
  {
   "cell_type": "markdown",
   "metadata": {},
   "source": [
    "Python is a dynamically casted/typed language.\n",
    "This means you don't have to set the type of a variable.\n",
    "This is very much unlike Java and C++/C which are statically casted.\n",
    "(As in they have a constant variable type. So no changing from string to int)\n",
    "This is one of the many reasons why Python is very popular nowadays.\n",
    "It is another reason why Python is a high-level programming language."
   ]
  },
  {
   "cell_type": "markdown",
   "metadata": {},
   "source": [
    "What if we want to check what type of variable is being printed?\n",
    "As in, how can we check if something is a string, aa integer or a float type?\n",
    "Never fear! There is a method to check for it!\n",
    "It is known as the type statement, and it is used like so:"
   ]
  },
  {
   "cell_type": "code",
   "execution_count": null,
   "metadata": {},
   "outputs": [],
   "source": [
    "print (type(z)) # The output is <class 'int'>. Z is indeed integer type."
   ]
  },
  {
   "cell_type": "markdown",
   "metadata": {},
   "source": [
    "### **Variables - Strings**\n",
    "\n",
    "Let's look at strings in a bit closer detail.\n",
    "String is an example of a Python object. It has both data and numbers."
   ]
  },
  {
   "cell_type": "markdown",
   "metadata": {},
   "source": [
    "Let's type two strings, one in single quotation and one in double:"
   ]
  },
  {
   "cell_type": "code",
   "execution_count": null,
   "metadata": {},
   "outputs": [],
   "source": [
    "msg = \"Today is fine.\"\n",
    "msg = 'Today is fine.'"
   ]
  },
  {
   "cell_type": "markdown",
   "metadata": {},
   "source": [
    "Both methods of typing are 'fine'.\n",
    "However there is an advantage for using `\"\"`, because we can use `''` in it.\n",
    "For example:"
   ]
  },
  {
   "cell_type": "code",
   "execution_count": null,
   "metadata": {},
   "outputs": [],
   "source": [
    "msg = \"Today is 'fine'.\""
   ]
  },
  {
   "cell_type": "markdown",
   "metadata": {},
   "source": [
    "String can also be manipulated to give desired outputs.\n",
    "For example, let's say we want to make the whole string in all capital.\n",
    "We add the .upper extension alongside the variable."
   ]
  },
  {
   "cell_type": "code",
   "execution_count": null,
   "metadata": {},
   "outputs": [],
   "source": [
    "print (msg.upper()) # Output is TODAY IS FINE."
   ]
  },
  {
   "cell_type": "markdown",
   "metadata": {},
   "source": [
    "If we want to make just the first word capitalized...\n",
    "We simply add the `.capitalize()` extension.\n",
    "First, have a string object that has no capital letters:"
   ]
  },
  {
   "cell_type": "code",
   "execution_count": null,
   "metadata": {},
   "outputs": [],
   "source": [
    "msg = \"i want to make the first word capitalized.\"\n",
    "\n",
    "print (msg.capitalize())\n",
    "# Output is I want to make the first word capitalized."
   ]
  },
  {
   "cell_type": "markdown",
   "metadata": {},
   "source": [
    "### **Variables - Naming Convention and Rules**\n",
    "\n",
    "There are some rules when it comes to naming.\n",
    "You can't type random things and call it a variable.\n"
   ]
  },
  {
   "cell_type": "markdown",
   "metadata": {},
   "source": [
    "These are the general rules for variable naming:\n",
    " - Variable name MUST start with a letter or underscore _ .\n",
    " - A variable name can only have alpha-numeric characters and underscores.\n",
    " - A variable can't be a key word in Python. (While, For, etc...)\n",
    " - Variables are case-sensitive. For example: Apple =\\= apple"
   ]
  },
  {
   "cell_type": "markdown",
   "metadata": {},
   "source": [
    "Here is a tip: Use meaningful names for variables.\n",
    "Another tip is to not use variables in projects\n",
    "It is so you can understand what your program is about when you come back."
   ]
  },
  {
   "cell_type": "markdown",
   "metadata": {},
   "source": [
    "### **Variables - Assigning values to variables**\n",
    "After typing so many values into variables the general gist is this:"
   ]
  },
  {
   "cell_type": "code",
   "execution_count": null,
   "metadata": {},
   "outputs": [],
   "source": [
    "Variable = \"Value\"  # The following is a string, but you get the idea..."
   ]
  },
  {
   "cell_type": "markdown",
   "metadata": {},
   "source": [
    "Let's say we have a lot of variables, such as 4.\n",
    "We can do it the hard way of assigning one variable one value...\n",
    "Or we can write it all in one line:"
   ]
  },
  {
   "cell_type": "code",
   "execution_count": null,
   "metadata": {},
   "outputs": [],
   "source": [
    "Var1, Var2, Var3 = 10, 20, 30"
   ]
  },
  {
   "cell_type": "markdown",
   "metadata": {},
   "source": [
    "The values on the right are in respect to the variables on the left.\n",
    "What if we have multiple variables, but all of them are the same value?\n",
    "Again, the cumbersome method of writing it one to one is there...\n",
    "Or we can do the chad move and write it in one line as follows:"
   ]
  },
  {
   "cell_type": "code",
   "execution_count": null,
   "metadata": {},
   "outputs": [],
   "source": [
    "Var1 = Var2 = Var3 = 10\n",
    "\n",
    "print (Var1, Var2, Var3) # Output is 10 10 10."
   ]
  },
  {
   "cell_type": "markdown",
   "metadata": {},
   "source": [
    "We can also make a variable have a value by addition of values.\n",
    "These values may/may not be variables themselves:"
   ]
  },
  {
   "cell_type": "code",
   "execution_count": null,
   "metadata": {},
   "outputs": [],
   "source": [
    "Var4 = 5 + 10\n",
    "\n",
    "print (Var4)    # Output is 15, as expected."
   ]
  },
  {
   "cell_type": "markdown",
   "metadata": {},
   "source": [
    "And with variables instead of values:"
   ]
  },
  {
   "cell_type": "code",
   "execution_count": null,
   "metadata": {},
   "outputs": [],
   "source": [
    "Var5 = Var3 + Var1\n",
    "\n",
    "print (Var5)    # Output is 20, as expected."
   ]
  },
  {
   "cell_type": "markdown",
   "metadata": {},
   "source": [
    "### **Final notes / Comparison**\n",
    "In C++/C, we always need to end the program by typing `return 0` at the end.\n",
    "This is especially true if we used an `int` type for the main function.\n",
    "However Python does not require such formalities. It can be 'informal'.\n",
    "In the sense that we don't need to type out a `return` value."
   ]
  },
  {
   "cell_type": "markdown",
   "metadata": {},
   "source": [
    "Another thing noticeable is the fact that we do not need to add libraries.\n",
    "At least no libraries for basic functions as Python comes prebuilt with them.\n",
    "Also, there is no need for main functions, writing styles, etc.\n",
    "Just get to coding immediately with little to no prior knowledge.\n",
    "Hence is the main reason for the high demand of Python programmers.\n",
    "Due to it's high versatility, it can be used in almost any situation."
   ]
  }
 ],
 "metadata": {
  "kernelspec": {
   "display_name": "Python 3.9.12 ('base')",
   "language": "python",
   "name": "python3"
  },
  "language_info": {
   "codemirror_mode": {
    "name": "ipython",
    "version": 3
   },
   "file_extension": ".py",
   "mimetype": "text/x-python",
   "name": "python",
   "nbconvert_exporter": "python",
   "pygments_lexer": "ipython3",
   "version": "3.9.12"
  },
  "orig_nbformat": 4,
  "vscode": {
   "interpreter": {
    "hash": "0e6b374874aea7398a3b4fe4b35def0208c11118029cb2a916bdc5a2d094b324"
   }
  }
 },
 "nbformat": 4,
 "nbformat_minor": 2
}
