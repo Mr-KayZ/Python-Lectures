{
 "cells": [
  {
   "cell_type": "markdown",
   "metadata": {},
   "source": [
    "# Basic Inputs and Outputs\n",
    "\n",
    "More often than not, we need to have a \"conversation\" with the computer to get what we want.\n",
    "As in, sometimes users must enter some values to get an answer. A program can't be one-way only.\n",
    "Therefore the use of input/output functions are used here for this scenario..."
   ]
  },
  {
   "cell_type": "markdown",
   "metadata": {},
   "source": [
    "### **The input function - input()**\n",
    "Programs often need to obtain data from the user, usually by way of input from the keyboard.\n",
    "The simplest way to accomplish this in python is with the [input()] function:"
   ]
  },
  {
   "cell_type": "code",
   "execution_count": null,
   "metadata": {},
   "outputs": [],
   "source": [
    "print (\"Please enter whatever you like below:\")\n",
    "\n",
    "Input = input() # This will make the user enter a string. It needs to be in a variable obviously.\n",
    "\n",
    "# The above function pauses the program execution to allow the user to type in a line of input.\n",
    "# Once the user presses the Enter key, all characters typed are read and returned as a string.\n",
    "\n",
    "print (Input)   # This will print whatever value was typed into the input as a string."
   ]
  },
  {
   "cell_type": "markdown",
   "metadata": {},
   "source": [
    "Now while we may use the print function directly above `input()` to tell the user what to type...\n",
    "We can instead write the exact words inside the space inside the input function, like so:"
   ]
  },
  {
   "cell_type": "code",
   "execution_count": null,
   "metadata": {},
   "outputs": [],
   "source": [
    "Input_2 = input(\"We can write here to give a prompt instead: \")\n",
    "\n",
    "# Output is [We can write here to give a prompt instead: ] and now requires an input from user.\n",
    "# Note that now, the value inputted will be on the same line as the prompt."
   ]
  },
  {
   "cell_type": "markdown",
   "metadata": {},
   "source": [
    "Now as it is, the input function will always read and return a string value.\n",
    "Of course, not all values typed in will be a string. Sometimes we may want a numeric value.\n",
    "Therefore, we need to convert it to the appropriate type with the `int()`, `float()` functions.\n",
    "For example, lets say we want to ask the user his/her age. We need a number this time. So..."
   ]
  },
  {
   "cell_type": "code",
   "execution_count": null,
   "metadata": {},
   "outputs": [],
   "source": [
    "Input_age = int(input(\"Please enter your age: \"))\n",
    "\n",
    "# Output is [Please enter your age: ] and now requires an input from user.\n",
    "# Note that the output now requires the user to enter an integer value."
   ]
  },
  {
   "cell_type": "markdown",
   "metadata": {},
   "source": [
    "### **The output function - print()**\n",
    "Now we already know the basics of outputting answers using print right?\n",
    "However the method we use for now is just unformatted output, nothing more...\n",
    "Now by default, the `print()` function always separates each object by a single space.\n",
    "It also appends a newline to the end of the output."
   ]
  },
  {
   "cell_type": "code",
   "execution_count": null,
   "metadata": {},
   "outputs": [],
   "source": [
    "first_name = \"Kazi\"\n",
    "last_name = \"Muttakin\"\n",
    "\n",
    "print (\"Name: \", first_name, last_name) #Output is: Name:  Kazi Muttakin"
   ]
  },
  {
   "cell_type": "markdown",
   "metadata": {},
   "source": [
    "Now any type of object can be specified as an argument to `print()`.\n",
    "If an object isn't a string, then `print()` converts it to an appropriate string when displaying."
   ]
  },
  {
   "cell_type": "markdown",
   "metadata": {},
   "source": [
    "### **Keyword arguments to the output function**\n",
    "`print()` takes a few additional arguments that can format some of the output to user's intent.\n",
    "They are called keyword arguments. This is basically parameter passing on basic level.\n",
    "For now, here is what you need to know:\n",
    "- Keyword arguments have the form `<keyword> = <value>`\n",
    "- Any keyword arguments passed to `print()` must come at the end, after the list of objects."
   ]
  },
  {
   "cell_type": "markdown",
   "metadata": {},
   "source": [
    "#### ***Keyword argument - sep=***\n",
    "Adding the keyword argument `sep=<str>` causes objects to be separated by a string value `<str>`.\n",
    "It will replace the usual space character that is the default. It is used as so:"
   ]
  },
  {
   "cell_type": "code",
   "execution_count": null,
   "metadata": {},
   "outputs": [],
   "source": [
    "print (\"foo\", 42, \"bar\")             # Output is foo 42 bar\n",
    "\n",
    "print('foo', 42, 'bar', sep='/')    # Output is foo/42/bar\n",
    "\n",
    "print('foo', 42, 'bar', sep='...')  # Output is foo...42...bar\n",
    "\n",
    "# To squish objects together without any space between them, specify[sep='' like so:\n",
    "\n",
    "print('foo', 42, 'bar', sep='')     # Output is foo42bar"
   ]
  },
  {
   "cell_type": "markdown",
   "metadata": {},
   "source": [
    "Basically with the `sep=` keyword, you can use any arbitrary string as a separator."
   ]
  },
  {
   "cell_type": "markdown",
   "metadata": {},
   "source": [
    "#### ***Keyword argument - end=***\n",
    "The keyword argument `end=<str>` causes output to be terminated by by a string value `<str>`.\n",
    "This means it will cause the output to be on the same line instead of a new line..."
   ]
  },
  {
   "cell_type": "code",
   "execution_count": null,
   "metadata": {},
   "outputs": [],
   "source": [
    "print('foo', end='/')\n",
    "print(42, end='/')\n",
    "print('bar')\n",
    "\n",
    "# Output is foo/42/bar"
   ]
  },
  {
   "cell_type": "markdown",
   "metadata": {},
   "source": [
    "It would be useful for loop displays for instance:"
   ]
  },
  {
   "cell_type": "code",
   "execution_count": null,
   "metadata": {},
   "outputs": [],
   "source": [
    "for n in range(10):\n",
    "    print(n)    # Output is 1 2 3... 9 in a new line per term.\n",
    "\n",
    "for n in range(10):\n",
    "    print(n, end=(' ' if n < 9 else '\\n'))  # Output is 1 2 3... 9 in ONE line"
   ]
  },
  {
   "cell_type": "markdown",
   "metadata": {},
   "source": [
    "Any string may be specified as the output terminator with the `end=` keyword."
   ]
  }
 ],
 "metadata": {
  "kernelspec": {
   "display_name": "Python 3.9.12 ('base')",
   "language": "python",
   "name": "python3"
  },
  "language_info": {
   "name": "python",
   "version": "3.9.12"
  },
  "orig_nbformat": 4,
  "vscode": {
   "interpreter": {
    "hash": "0e6b374874aea7398a3b4fe4b35def0208c11118029cb2a916bdc5a2d094b324"
   }
  }
 },
 "nbformat": 4,
 "nbformat_minor": 2
}
