{
 "cells": [
  {
   "cell_type": "markdown",
   "metadata": {},
   "source": [
    "# Arithmetic Operations and calculations\n",
    "The saying 'Computers are essentially giant calculators' isn't completely wrong.\n",
    "A computer runs on many different calculations being processed per second.\n",
    "As time goes by, calculations become more complex, computers get more powerful, CPU's are faster.\n",
    "Circle of life, eh?"
   ]
  },
  {
   "cell_type": "markdown",
   "metadata": {},
   "source": [
    "In all seriousness, this time we will work on operations and such today.\n",
    "As in this time, we will be seeing how to calculate in Python."
   ]
  },
  {
   "cell_type": "markdown",
   "metadata": {},
   "source": [
    "### **Calculation - Simple**\n",
    "Lets assume two variables:"
   ]
  },
  {
   "cell_type": "code",
   "execution_count": null,
   "metadata": {},
   "outputs": [],
   "source": [
    "x = 10.0    # Float value.\n",
    "y = 3.2     # Also another float."
   ]
  },
  {
   "cell_type": "markdown",
   "metadata": {},
   "source": [
    "Now let's do the proper calculations.\n",
    "We can do simple addition, subtraction, multiplication and division as follows:\n",
    "(Let's assign a new variable for each calculation)"
   ]
  },
  {
   "cell_type": "code",
   "execution_count": null,
   "metadata": {},
   "outputs": [],
   "source": [
    "Addition_Value = x + y          # Which is 13.2\n",
    "print (Addition_Value)          # Output is 13.2 as expected.\n",
    "\n",
    "Subtraction_Value = x - y       # Which is 6.8\n",
    "print (Subtraction_Value)       # Output is 6.8 as expected.\n",
    "\n",
    "Multiplication_Value = x * y    # Which is 32.0 (float value)\n",
    "print (Multiplication_Value)    # Output is 32.0 as expected.\n",
    "\n",
    "Division_Value = x / y          # Which is 3.125\n",
    "print (Division_Value)          # Output is 3.125 as expected."
   ]
  },
  {
   "cell_type": "markdown",
   "metadata": {},
   "source": [
    "Notice that for calculations, we put the variable first before the actual calculation.\n",
    "This is a must whenever we do calculations and we want to assign it to a value first.\n",
    "Now assigning a variable every single time we do a calculation can get tiring.\n",
    "So instead of doing that, we can simply print out the result directly from the calculation.\n",
    "Like so:"
   ]
  },
  {
   "cell_type": "code",
   "execution_count": null,
   "metadata": {},
   "outputs": [],
   "source": [
    "print (x + y)   # Output is 13.2 as expected.\n",
    "print (x - y)   # Output is 6.8 as expected.\n",
    "print (x * y)   # Output is 32.0 as expected.\n",
    "print (x / y)   # Output is 3.125 as expected."
   ]
  },
  {
   "cell_type": "markdown",
   "metadata": {},
   "source": [
    "Note that we do not even need to assign values to variables in the first place.\n",
    "If we want, we can simply put the actual numbers in:"
   ]
  },
  {
   "cell_type": "code",
   "execution_count": null,
   "metadata": {},
   "outputs": [],
   "source": [
    "print (10.0 + 3.2)   # Output is 13.2 as expected.\n",
    "print (10.0 - 3.2)   # Output is 6.8 as expected.\n",
    "print (10.0 * 3.2)   # Output is 32.0 as expected.\n",
    "print (10.0 / 3.2)   # Output is 3.125 as expected."
   ]
  },
  {
   "cell_type": "markdown",
   "metadata": {},
   "source": [
    "However we assign variables because they are more useful, especially if a user inputs a value."
   ]
  },
  {
   "cell_type": "markdown",
   "metadata": {},
   "source": [
    "### **Calculation - Integer division**\n",
    "Whenever we divide using a singular `/`, we get a float value if decimals are present.\n",
    "This will happen even if the numbers in the calculation are integers.\n",
    "What if we want to divide but get an integer value? (No decimals)\n",
    "Python can provide for such a request. The result is the operator `//`.\n",
    "This is basically two slashes `/` mixed in one. (Or a comment in C++/C)\n",
    "It is used as any other math operator:"
   ]
  },
  {
   "cell_type": "code",
   "execution_count": null,
   "metadata": {},
   "outputs": [],
   "source": [
    "print (x // y)  # Output is 3.0"
   ]
  },
  {
   "cell_type": "markdown",
   "metadata": {},
   "source": [
    "Note that the value type itself is float, even if the result is an integer.\n",
    "This is because two float types were used.\n",
    "For two integers instead:"
   ]
  },
  {
   "cell_type": "code",
   "execution_count": null,
   "metadata": {},
   "outputs": [],
   "source": [
    "print (10 // 3) # Output is 3"
   ]
  },
  {
   "cell_type": "markdown",
   "metadata": {},
   "source": [
    "### **Calculation - Remainder**\n",
    "This is a special type of operator in the sense that it divides, but it does not give the answer.\n",
    "Instead, it gives us the remainder of a division. This is the remainder operator, denoted by `%`.\n",
    "Let's take an example:"
   ]
  },
  {
   "cell_type": "code",
   "execution_count": null,
   "metadata": {},
   "outputs": [],
   "source": [
    "print (10 % 3)  # Remainder is 1, as expected."
   ]
  },
  {
   "cell_type": "markdown",
   "metadata": {},
   "source": [
    "This is useful in many applications, for example getting the last digit of a number.\n",
    "We simply use the remainder operator with `% 10` to get the result.\n",
    "For example:"
   ]
  },
  {
   "cell_type": "code",
   "execution_count": null,
   "metadata": {},
   "outputs": [],
   "source": [
    "Number = 124551431\n",
    "\n",
    "print (Number % 10) # Gives us the last number, which is 1. Output is 1, as expected."
   ]
  },
  {
   "cell_type": "markdown",
   "metadata": {},
   "source": [
    "We can even do last 2 digits with the remainder `% 100`, or three digits `% 1000`"
   ]
  },
  {
   "cell_type": "code",
   "execution_count": null,
   "metadata": {},
   "outputs": [],
   "source": [
    "print (Number % 100)    # Output is 31 as expected.\n",
    "\n",
    "print (Number % 1000)   # Output is 431 as expected."
   ]
  },
  {
   "cell_type": "markdown",
   "metadata": {},
   "source": [
    "### **Calculation - Exponents**\n",
    "As usual, for some reason the character `^` is used for something else in programming languages.\n",
    "So we cannot use that for typing out exponents. So what is the other method for typing?\n",
    "Different programming languages have different methods of typing it out.\n",
    "In C++/C, we use the `pow()` statement to make an exponent. (With the inclusion of a library)"
   ]
  },
  {
   "cell_type": "markdown",
   "metadata": {},
   "source": [
    "Luckily in Python, the process is a lot simpler. Instead of typing `^` like a sane person...\n",
    "We use `**` (two multiplication signs `*`). For example, let's say we want `x^y`..."
   ]
  },
  {
   "cell_type": "code",
   "execution_count": null,
   "metadata": {},
   "outputs": [],
   "source": [
    "x = 10.0\n",
    "y = 3.2\n",
    "\n",
    "print (x ** y)  # Output is [1584.893192461114] as expected."
   ]
  },
  {
   "cell_type": "markdown",
   "metadata": {},
   "source": [
    "### **Calculation - Unary operators**\n",
    "Before we start explaining, let's take two new variables and assign variables to them:"
   ]
  },
  {
   "cell_type": "code",
   "execution_count": null,
   "metadata": {},
   "outputs": [],
   "source": [
    "Var1 = 10\n",
    "Var2 = 15\n",
    "\n",
    "# Let's say we want to make Var2 greater by a Var1 amount. We can do the simple way:\n",
    "\n",
    "Var2 = 15 + Var1\n",
    "\n",
    "print (Var2)    # Output is 25 as expected."
   ]
  },
  {
   "cell_type": "markdown",
   "metadata": {},
   "source": [
    "Now that is simple and all. The same process goes for multiplication, division, subtraction, etc.\n",
    "However programmers are people who would often want to find shortcuts to things.\n",
    "And thus programming languages often allow for such shortcuts.\n",
    "Instead of writing the original value for Var2 again, we can use Unary operators.\n",
    "Unary operators are operators that take a single operand/argument and performs an operation.\n",
    "In Python's case, it basically means we can cut out the original number from the operation.\n",
    "In programming sense, we do this:"
   ]
  },
  {
   "cell_type": "code",
   "execution_count": null,
   "metadata": {},
   "outputs": [],
   "source": [
    "Var2 += Var1    #This is the same as carrying out Var2 = 15 + Var1, same operation."
   ]
  },
  {
   "cell_type": "markdown",
   "metadata": {},
   "source": [
    "By doing the above, it is possible to reduce the time taken to write by about 3 seconds.\n",
    "In all seriousness, this is useful for reducing long statements and such. (Trust me)\n",
    "They are called assignment operators."
   ]
  },
  {
   "cell_type": "markdown",
   "metadata": {},
   "source": [
    "### **Calculation - Operator precedence**\n",
    "When it comes to calculators, scientific calculators take operator precedence into account.\n",
    "Naturally, a bigger calculator like a PC also needs to do the same. \n",
    "Hence operator precedence exists. It goes as follows:\n",
    "1. Parenthesis `()`\n",
    "2. Exponents `**`\n",
    "3. Multiplication `*`, Division `/`, `//`, Remainder `%`\n",
    "4. Addition `+`, Subtraction `-`\n",
    "\n"
   ]
  },
  {
   "cell_type": "markdown",
   "metadata": {},
   "source": [
    "Note - Read from left to right. This is very much similar to Math. Therefore, let's take some examples to get the idea:\n",
    "Let's assign some variables some values:"
   ]
  },
  {
   "cell_type": "code",
   "execution_count": null,
   "metadata": {},
   "outputs": [],
   "source": [
    "x , y, z = 10, 4, 3 # This means x = 10, y = 4, z = 3.\n",
    "\n",
    "w = x + y + z   # Which is 17\n",
    "print (w)       # Output is 17 as expected.\n",
    "\n",
    "w = x + y * z   # Which is 22\n",
    "print (w)       # Output is 22 as expected.\n",
    "\n",
    "w = x / y * z   # Which is 7.5\n",
    "print (w)       # Output is 7.5 as expected."
   ]
  }
 ],
 "metadata": {
  "kernelspec": {
   "display_name": "Python 3.9.12 ('base')",
   "language": "python",
   "name": "python3"
  },
  "language_info": {
   "name": "python",
   "version": "3.9.12"
  },
  "orig_nbformat": 4,
  "vscode": {
   "interpreter": {
    "hash": "0e6b374874aea7398a3b4fe4b35def0208c11118029cb2a916bdc5a2d094b324"
   }
  }
 },
 "nbformat": 4,
 "nbformat_minor": 2
}
