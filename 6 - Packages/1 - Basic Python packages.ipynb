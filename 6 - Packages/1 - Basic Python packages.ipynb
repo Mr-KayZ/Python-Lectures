{
 "cells": [
  {
   "cell_type": "markdown",
   "metadata": {},
   "source": [
    "# 6.1 - Basic Python packages and how to use them\n",
    "\n",
    "One of the great things about Python is the fact that it has numerous packages that exist online, and how easy to use many of them are. Some of the more relevant ones include `Numpy` and `Basic Math Package`, for instance. They are widely used for multiple applications and fields, such as data science, AI building, Machine learning, etc.\n",
    "\n",
    "But a good thing about such packages is that they have huge amounts of documentation and resources to rely on such that we can easily utilize them on the fly. And if we get stuck somewhere, we can always look back into documentation!\n",
    "\n",
    "But before we even use such packages, we need to first import them into the program. And doing so is as easy as:"
   ]
  },
  {
   "cell_type": "code",
   "execution_count": null,
   "metadata": {},
   "outputs": [],
   "source": [
    "import numpy # Imports the numpy library"
   ]
  },
  {
   "cell_type": "markdown",
   "metadata": {},
   "source": [
    "Congratulations! You can now use functions from the numpy library. Do note that this \"import\" section needs to come before you use the function of that library. Ideally, it should be at the top of any program file.\n",
    "\n",
    "And we can import multiple libraries as well:"
   ]
  },
  {
   "cell_type": "code",
   "execution_count": null,
   "metadata": {},
   "outputs": [],
   "source": [
    "# Import the libraries:\n",
    "import numpy as np\n",
    "import matplotlib.pyplot as plt # Here we import matplotlib, more specifically, the pyplot module.\n",
    "# We also imported it under the alias plt, so we can use plt instead of writing pyplot all the time for drawing graphs.\n",
    "# Also, numpy had been imported under the alias np."
   ]
  },
  {
   "cell_type": "markdown",
   "metadata": {},
   "source": [
    "Just a note, Numpy can be used like how we used lists (or arrays) which we discussed previously, so the base functionality of Numpy should be easy to understand. However, the main reason we prefer using numpy is because it has far more functionality than normal linkedlists, which are well documented and there are multiple tutorials for it too (discussion on tutorials and resources for such packages will be discussed later).\n",
    "\n",
    "For now, lets make a simple plot using matplotlib and numpy to draw a line from coordinates (0,0) to (6,250) to get a better understanding of how these packages are used:"
   ]
  },
  {
   "cell_type": "code",
   "execution_count": null,
   "metadata": {},
   "outputs": [],
   "source": [
    "# Import the libraries:\n",
    "import matplotlib.pyplot as plt\n",
    "import numpy as np\n",
    "\n",
    "# create the points using numpy. Note that we are making an array using numpy.\n",
    "# Note that to utilize package functions, we first go with the package name then use the . operator to access them.\n",
    "# In this case, we are using the array function.\n",
    "# So we use np.array to access that function (numpy's alias is np as discussed above):\n",
    "xpoints = np.array([0, 6])\n",
    "ypoints = np.array([0, 250])\n",
    "\n",
    "# Now all we do is simply plot the points and draw the line through them using the plot function from pyplot:\n",
    "plt.plot(xpoints, ypoints)\n",
    "plt.show()"
   ]
  },
  {
   "cell_type": "markdown",
   "metadata": {},
   "source": [
    "### **Resources and Tutorials**\n",
    "\n",
    "Like I said previously, there are plenty of different resources available online for using these packages. Most of them can be found googling: `<Package name> tutorial / documentation`.\n",
    "\n",
    "However, for basic functions and tutorials, I highly recommend W3Schools for them as they have a massive resource on not just packages but Python as well:\n",
    "\n",
    "**Numpy:**\n",
    "https://www.w3schools.com/python/numpy/default.asp\n",
    "\n",
    "**Machine Learning:**\n",
    "https://www.w3schools.com/python/python_ml_getting_started.asp\n",
    "\n",
    "**Matplotlib:**\n",
    "https://www.w3schools.com/python/matplotlib_intro.asp\n",
    "\n",
    "**Python (general):**\n"
   ]
  }
 ],
 "metadata": {
  "kernelspec": {
   "display_name": "Python 3.9.12 ('base')",
   "language": "python",
   "name": "python3"
  },
  "language_info": {
   "codemirror_mode": {
    "name": "ipython",
    "version": 3
   },
   "file_extension": ".py",
   "mimetype": "text/x-python",
   "name": "python",
   "nbconvert_exporter": "python",
   "pygments_lexer": "ipython3",
   "version": "3.9.12"
  },
  "orig_nbformat": 4,
  "vscode": {
   "interpreter": {
    "hash": "0e6b374874aea7398a3b4fe4b35def0208c11118029cb2a916bdc5a2d094b324"
   }
  }
 },
 "nbformat": 4,
 "nbformat_minor": 2
}
