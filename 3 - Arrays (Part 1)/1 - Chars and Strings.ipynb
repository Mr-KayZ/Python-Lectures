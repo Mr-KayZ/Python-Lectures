{
 "cells": [
  {
   "cell_type": "markdown",
   "metadata": {},
   "source": [
    "# Chars and strings and their significance as arrays\n",
    "\n",
    "This chapter will deal with how strings are used and dealt with as well as a new variable: char. We will also cover how they behave like arrays.\n",
    "\n",
    "### **Chars and Strings - Introduction**\n",
    "\n",
    "Now we have heard of strings which is defined as \"an array of characters\".\n",
    "And now we have a new data type here, called the char data type.\n",
    "Here is a quick refresher on the data types:"
   ]
  },
  {
   "cell_type": "code",
   "execution_count": null,
   "metadata": {},
   "outputs": [],
   "source": [
    "a = 10          # An integer\n",
    "b = 2.5         # A float\n",
    "\n",
    "st = \"string\"   # A string\n",
    "ch = 'C'        # A character"
   ]
  },
  {
   "cell_type": "markdown",
   "metadata": {},
   "source": [
    "Now you heard the word array this and array that. But what is an array?\n",
    "We won't go into too much detail now, but an array is a set of data, kind of like a table.\n",
    "And thus a string would be a \"table\" of characters, an array.\n",
    "And an array have indexes. As in each and every character has a reference.\n",
    "This reference is a number. They start from 0. As in the first character is indexed as 0.\n",
    "Using this, we can also print out a specific part of a string, like just one character.\n",
    "Let's say we want to print out the 't' part of the string `string`.\n",
    "Hence we write it in the form `variable[Number]`:"
   ]
  },
  {
   "cell_type": "code",
   "execution_count": null,
   "metadata": {},
   "outputs": [],
   "source": [
    "st = \"string\"   \n",
    "\n",
    "print(st [1])    # Output is t because the index of the character t is 1. The index of the character 's' is 0."
   ]
  },
  {
   "cell_type": "markdown",
   "metadata": {},
   "source": [
    "Pretty weird right? But this is true for most programming languages (Except Matlab, but that is a whole other beast altogether). \n",
    "Index positions always start at 0. **REMEMBER THIS!**\n",
    "\n",
    "Now here is a limitation with Python.\n",
    "In other programming langauges, we can replace any value of an array with another...\n",
    "Normally, we simply type [st[1] = 'p'] in other programming languages.\n",
    "It would not work here. This is because strings are immutable in Python!\n",
    "As in the contents of the string cannot be changed.\n",
    "However, we can change the value of the string itself instead."
   ]
  },
  {
   "cell_type": "code",
   "execution_count": null,
   "metadata": {},
   "outputs": [],
   "source": [
    "st = \"string\"   # A string\n",
    "\n",
    "st = \"Now this is a new string!\" # Changed the original string."
   ]
  },
  {
   "cell_type": "markdown",
   "metadata": {},
   "source": [
    "So we can't change the value of a string...\n",
    "But it does not mean we can't assign a character in a string to a variable!\n",
    "In other words, we can do things like this:"
   ]
  },
  {
   "cell_type": "code",
   "execution_count": null,
   "metadata": {},
   "outputs": [],
   "source": [
    "st = \"Now this is a new string!\"\n",
    "\n",
    "ch = st [2]\n",
    "\n",
    "print(ch)   # Output is [w]."
   ]
  },
  {
   "cell_type": "markdown",
   "metadata": {},
   "source": [
    "### **The length of a string - The len() function**\n",
    "\n",
    "We can see the length of a string using a function called `len()`.\n",
    "This function can easily allow the user to know the length of a string.\n",
    "It is easy to use, kind of like `type()`. Instead, it is for length:"
   ]
  },
  {
   "cell_type": "code",
   "execution_count": null,
   "metadata": {},
   "outputs": [],
   "source": [
    "st = \"Now this is a new string!\"\n",
    "\n",
    "print(len(st))  # Output is 25."
   ]
  },
  {
   "cell_type": "markdown",
   "metadata": {},
   "source": [
    "This can be used to calculate and print out specific parts of a string.\n",
    "For example, if we want a program to print out the last character of any string, we type:"
   ]
  },
  {
   "cell_type": "code",
   "execution_count": null,
   "metadata": {},
   "outputs": [],
   "source": [
    "st = \"Now this is a new string!\"\n",
    "\n",
    "Last_ch = len(st) - 1   # Because the index starts from 0...\n",
    "\n",
    "print(st [Last_ch])     # Output is ! because '!' was the last character used in that string."
   ]
  },
  {
   "cell_type": "markdown",
   "metadata": {},
   "source": [
    "Instead of using a intermediary `Last_ch`, we can directly type the function into the [] part...\n",
    "But we chose not to because it will be easier to understand this way.\n",
    "\n",
    "What happens if we simply use the `len(st)` as is (as in all the numbers?)\n",
    "We will get an error, saying `IndexError: string index out of range`.\n",
    "We are pretty sure you understand what this means..."
   ]
  },
  {
   "cell_type": "markdown",
   "metadata": {},
   "source": [
    "### **ASCII values of a char**\n",
    "\n",
    "Now we know what char is, it is a character.\n",
    "Of course, a character to a computer is simply binary code.\n",
    "But how can we get that binary code? By knowing the ASCII value of it.\n",
    "And now the main question: How do we get the ASCII value of a character?\n",
    "\n",
    "We use the function `ord()` to get the ASCII value, and we use it as so:"
   ]
  },
  {
   "cell_type": "code",
   "execution_count": null,
   "metadata": {},
   "outputs": [],
   "source": [
    "ch = 'w'\n",
    "\n",
    "print(ch)       # This is just the character... Output is w\n",
    "\n",
    "ch = ord(ch)    # This gives us the ASCII value of a character.\n",
    "\n",
    "print(ch)       # Output is [119]"
   ]
  },
  {
   "cell_type": "markdown",
   "metadata": {},
   "source": [
    "We can also use ASCII values and turn it into characters using the `chr()` function.\n",
    "It is used in a similar manner to `ord()`:"
   ]
  },
  {
   "cell_type": "code",
   "execution_count": null,
   "metadata": {},
   "outputs": [],
   "source": [
    "ch = 'w'\n",
    "\n",
    "ch = chr(ch)    # This gives us the character from an ASCII value.\n",
    "\n",
    "print(ch)       # Output is w again!"
   ]
  }
 ],
 "metadata": {
  "language_info": {
   "name": "python"
  },
  "orig_nbformat": 4
 },
 "nbformat": 4,
 "nbformat_minor": 2
}
