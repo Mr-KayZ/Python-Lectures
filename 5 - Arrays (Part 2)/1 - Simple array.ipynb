{
 "cells": [
  {
   "cell_type": "markdown",
   "metadata": {},
   "source": [
    "# 5.1 - Simple Arrays\n",
    "\n",
    "Python does not have a built-in support for Arrays, but Python Lists can be used instead.\n",
    "If we want to use arrays, we would have to import the NumPy library.\n",
    "Otherwise, we will use normal lists as arrays."
   ]
  },
  {
   "cell_type": "markdown",
   "metadata": {},
   "source": [
    "### **What is an array?**\n",
    "\n",
    "An array is a special variable, which can hold more than one value at a time.\n",
    "If we have a list of items (a list of car names, for example...), we can store them like so:"
   ]
  },
  {
   "cell_type": "code",
   "execution_count": null,
   "metadata": {},
   "outputs": [],
   "source": [
    "car1 = \"Ford\"\n",
    "car2 = \"Volvo\"\n",
    "car3 = \"BMW\""
   ]
  },
  {
   "cell_type": "markdown",
   "metadata": {},
   "source": [
    "And it can go on. But what if we want to loop through the cars and find a specific one?\n",
    "And what if we have far more than 3 cars, say 300, or 3000?\n",
    "Then the solution is an array!\n",
    "\n",
    "So lets put the three cars into an array called cars instead.\n",
    "We put values into an array by writing a variable and equaling it to a list like so:"
   ]
  },
  {
   "cell_type": "code",
   "execution_count": null,
   "metadata": {},
   "outputs": [],
   "source": [
    "cars = [\"Ford\", \"Volvo\", \"BMW\"] # Similar to a single row matrix!"
   ]
  },
  {
   "cell_type": "markdown",
   "metadata": {},
   "source": [
    "An array can hold many values under a single name.\n",
    "And you can access them by referring to index number.\n",
    "Note that the index of an array always start from 0.\n",
    "\n",
    "We can access the array as below:"
   ]
  },
  {
   "cell_type": "code",
   "execution_count": null,
   "metadata": {},
   "outputs": [],
   "source": [
    "cars = [\"Ford\", \"Volvo\", \"BMW\"]\n",
    "\n",
    "x = cars[0] # Get the value of the first array item. In this case it would be 'Ford'.\n",
    "\n",
    "cars[0] = \"Toyota\"  # Modify the value of the first array item..."
   ]
  },
  {
   "cell_type": "markdown",
   "metadata": {},
   "source": [
    "### **Types of Arrays**\n",
    "\n",
    "There are multiple types of arrays that may exist."
   ]
  },
  {
   "cell_type": "code",
   "execution_count": null,
   "metadata": {},
   "outputs": [],
   "source": [
    "y = [1,2,3,4,5,6,7,8,9,10]      # An array containing int types\n",
    "cars = [\"Ford\", \"Volvo\", \"BMW\"] # An array of strings"
   ]
  },
  {
   "cell_type": "markdown",
   "metadata": {},
   "source": [
    "You get the idea. Multiple types of arrays can exist.\n",
    "If we were to print an array, we get the whole list instead of a digit:"
   ]
  },
  {
   "cell_type": "code",
   "execution_count": null,
   "metadata": {},
   "outputs": [],
   "source": [
    "y = [1,2,3,4,5,6,7,8,9,10]     \n",
    "cars = [\"Ford\", \"Volvo\", \"BMW\"]\n",
    "\n",
    "print(y)     # Output is [1, 2, 3, 4, 5, 6, 7, 8, 9, 10] including brackets.\n",
    "print(cars)  # Output is ['Ford', 'Volvo', 'BMW'] including brackets."
   ]
  },
  {
   "cell_type": "markdown",
   "metadata": {},
   "source": [
    "### **The length of an Array**\n",
    "\n",
    "Just like in strings, we can use the `len()` function to return the length of an array.\n",
    "The length of an array refers to the number of elements in a said array."
   ]
  },
  {
   "cell_type": "code",
   "execution_count": null,
   "metadata": {},
   "outputs": [],
   "source": [
    "cars = [\"Ford\", \"Volvo\", \"BMW\"]\n",
    "\n",
    "print(len(cars))    #Output is 3."
   ]
  },
  {
   "cell_type": "markdown",
   "metadata": {},
   "source": [
    "Note that the length of an array is always one more than the highest index."
   ]
  },
  {
   "cell_type": "markdown",
   "metadata": {},
   "source": [
    "### **Looping array elements**\n",
    "\n",
    "If we want to go through each item in an array, we can use a for loop like so:"
   ]
  },
  {
   "cell_type": "code",
   "execution_count": null,
   "metadata": {},
   "outputs": [],
   "source": [
    "cars = [\"Ford\", \"Volvo\", \"BMW\"]\n",
    "\n",
    "for x in cars:\n",
    "    print(x)"
   ]
  },
  {
   "cell_type": "markdown",
   "metadata": {},
   "source": [
    "Note that this happens automatically, x does not need to be defined.\n",
    "Nor does the range function. x is automatically chosen as the array index.\n",
    "We also do not need an updating statement.\n",
    "The for loop automatically goes through each index one by one.\n",
    "\n",
    "Note that we can also do more calculations for the items in an array.\n",
    "Say for instance, we want just Toyota to be printed. Hence we write:"
   ]
  },
  {
   "cell_type": "code",
   "execution_count": null,
   "metadata": {},
   "outputs": [],
   "source": [
    "cars = [\"Ford\", \"Volvo\", \"BMW\"]\n",
    "\n",
    "for x in cars:\n",
    "    if x == 'Toyota':\n",
    "        print (x)"
   ]
  },
  {
   "cell_type": "markdown",
   "metadata": {},
   "source": [
    "Notice we have no updating statement here either, and yet we do not end up with an infinite loop."
   ]
  },
  {
   "cell_type": "markdown",
   "metadata": {},
   "source": [
    "### **Adding and Removing Array Elements**\n",
    "\n",
    "Unlike string, we can add array elements to an array. We simply use the `append()` method.\n",
    "Simply attach it to the end of the array and write what you want to enter in the parentheses.\n",
    "Say for instance we want to add `Honda` to the list of cars. We can write:"
   ]
  },
  {
   "cell_type": "code",
   "execution_count": null,
   "metadata": {},
   "outputs": [],
   "source": [
    "cars = [\"Ford\", \"Volvo\", \"BMW\"]\n",
    "\n",
    "cars.append(\"Honda\")\n",
    "\n",
    "# And indeed the size of the array has increased by one:\n",
    "\n",
    "print(len(cars))    # Output is [4]."
   ]
  },
  {
   "cell_type": "markdown",
   "metadata": {},
   "source": [
    "All that is nice and all, but what if we want to remove an array element?\n",
    "Say for instance, we want to completely remove the second element of an array.\n",
    "And I mean remove, no replacing it with something else...\n",
    "\n",
    "We can use the (as funny as it sounds) the `pop()` method to remove an element:"
   ]
  },
  {
   "cell_type": "code",
   "execution_count": null,
   "metadata": {},
   "outputs": [],
   "source": [
    "cars = [\"Ford\", \"Volvo\", \"BMW\"]\n",
    "\n",
    "cars.pop(1) # Remember, second index is 1, so we are removing 'Volvo'.\n",
    "\n",
    "# And indeed the size of the array has decreased by one:\n",
    "\n",
    "print(len(cars))    # Output is [2]."
   ]
  },
  {
   "cell_type": "markdown",
   "metadata": {},
   "source": [
    "But what if we want to be more specific? Say we want to remove a specific element.\n",
    "We can use a for loop and use the `pop()` method. That can remove an element using indexes.\n",
    "But a far easier way is using the `remove()` method:"
   ]
  },
  {
   "cell_type": "code",
   "execution_count": null,
   "metadata": {},
   "outputs": [],
   "source": [
    "cars = [\"Ford\", \"Volvo\", \"BMW\"]\n",
    "\n",
    "cars.remove(\"Ford\") # If an item is not there, a traceback error occurs.\n",
    "\n",
    "# And indeed the size of the array has decreased by one:\n",
    "\n",
    "print(len(cars))    # Output is [2]."
   ]
  },
  {
   "cell_type": "markdown",
   "metadata": {},
   "source": [
    "Note that The list's `remove()` method only removes the first occurrence of the specified value.\n",
    "So if an element appears twice or more somewhere, only the first occurrence on the lowest index is deleted."
   ]
  },
  {
   "cell_type": "markdown",
   "metadata": {},
   "source": [
    "### **Creating an Array using loops**\n",
    "\n",
    "Let's say we want an array going from 0 to 100.\n",
    "Of course, we can type it all out, but that would take forever to do...\n",
    "So why not use a loop? We can use the `append()` method for each new addition using a for loop.\n",
    "\n",
    "But there is a better method. We can write the for loop directly into the array itself.\n",
    "All we have to do is write the element we want to write, and use the for loop beside it.\n",
    "All of this is inside the array brackets."
   ]
  },
  {
   "cell_type": "code",
   "execution_count": null,
   "metadata": {},
   "outputs": [],
   "source": [
    "y = [0 for i in range (5)]  # Creates an array of five [0]s.\n",
    "\n",
    "y = [7 for i in range (5)]  # Creates an array of five [7]s."
   ]
  },
  {
   "cell_type": "markdown",
   "metadata": {},
   "source": [
    "### **Copying arrays**\n",
    "\n",
    "Let's say we have 2 arrays, x and y. We can make one array equal to one another:"
   ]
  },
  {
   "cell_type": "code",
   "execution_count": null,
   "metadata": {},
   "outputs": [],
   "source": [
    "x = [1,2,3,4]\n",
    "y = [5,6,7,8]\n",
    "\n",
    "x = y   # This makes all values of x become values of y, right? (Spoiler, no it does not!)\n",
    "\n",
    "# So if we were to print them both:\n",
    "\n",
    "print(\"Values of x:\",x) # Output is [5, 6, 7, 8] including brackets\n",
    "print(\"Values of y:\",y) # Output is [5, 6, 7, 8] including brackets"
   ]
  },
  {
   "cell_type": "markdown",
   "metadata": {},
   "source": [
    "Normally, for normal variables, if we were to equal two things and change one of them...\n",
    "Only that variable changes, the other remains the same.\n",
    "\n",
    "But for arrays, if we were to modify like so:"
   ]
  },
  {
   "cell_type": "code",
   "execution_count": null,
   "metadata": {},
   "outputs": [],
   "source": [
    "x = [1,2,3,4]\n",
    "y = [5,6,7,8]\n",
    "\n",
    "x = y\n",
    "\n",
    "x[0] = -7 # Change one value of x, or so we think\n",
    "\n",
    "print(\"Values of x:\",x) # Output is [-7, 6, 7, 8] including brackets\n",
    "print(\"Values of y:\",y) # Output is [-7, 6, 7, 8] including brackets"
   ]
  },
  {
   "cell_type": "markdown",
   "metadata": {},
   "source": [
    "Both values of the arrays change! Why is this so?\n",
    "The main reason is because x is simply assigned to y. As in they are looking at the same memory.\n",
    "That means if either x or y is changed, the other is changed as well, as we are \"thinking\" we are changing x but in reality we are changing y, and x simply is another \"alias\" for y now.\n",
    "\n",
    "But what if we don't want this? What if we want x and y to have their own copy of data?\n",
    "As in if we change y, we don't want to change x.\n",
    "Then we can use the copy function [copy()] like so:"
   ]
  },
  {
   "cell_type": "code",
   "execution_count": null,
   "metadata": {},
   "outputs": [],
   "source": [
    "x = [1,2,3,4]\n",
    "y = [5,6,7,8]\n",
    "\n",
    "x = y.copy() # This will prevent the changing of alias. \n",
    "# x is still its own identity, and no longer will \"point\" to y.\n",
    "\n",
    "# Now if we change x, y will not change anymore:\n",
    "\n",
    "x[0] = 23\n",
    "\n",
    "print(\"Values of x:\",x) # Output is [23, 6, 7, 8] including brackets\n",
    "print(\"Values of y:\",y) # Output is [-7, 6, 7, 8] including brackets"
   ]
  },
  {
   "cell_type": "markdown",
   "metadata": {},
   "source": [
    "Now x is different from y!\n",
    "\n",
    "Note the idea behind this largely falls under the use of \"pointers\" and all, which is really higher level programming that you do not need to go into right now."
   ]
  },
  {
   "cell_type": "markdown",
   "metadata": {},
   "source": [
    "### **More Array Methods**\n",
    "\n",
    "Python has a set of built in methods we can use for lists/arrays.\n",
    "These are the useful ones pasted below:\n",
    "- `append()`    - Adds an element at the end of the list\n",
    "- `clear()`     - Removes all the elements from the list\n",
    "- `copy()`    - Returns a copy of the list\n",
    "- `count()`    - Returns the number of elements with the specified value\n",
    "- `extend()`    - Add the elements of a list (or any iterable), to the end of the current list\n",
    "- `index()`     - Returns the index of the first element with the specified value\n",
    "- `insert()`    - Adds an element at the specified position\n",
    "- `pop()`   \t- Removes the element at the specified position\n",
    "- `remove()`    - Removes the first item with the specified value\n",
    "- `reverse()`   - Reverses the order of the list\n",
    "- `sort()`      - Sorts the list"
   ]
  }
 ],
 "metadata": {
  "kernelspec": {
   "display_name": "Python 3.9.12 ('base')",
   "language": "python",
   "name": "python3"
  },
  "language_info": {
   "codemirror_mode": {
    "name": "ipython",
    "version": 3
   },
   "file_extension": ".py",
   "mimetype": "text/x-python",
   "name": "python",
   "nbconvert_exporter": "python",
   "pygments_lexer": "ipython3",
   "version": "3.9.12"
  },
  "orig_nbformat": 4,
  "vscode": {
   "interpreter": {
    "hash": "0e6b374874aea7398a3b4fe4b35def0208c11118029cb2a916bdc5a2d094b324"
   }
  }
 },
 "nbformat": 4,
 "nbformat_minor": 2
}
