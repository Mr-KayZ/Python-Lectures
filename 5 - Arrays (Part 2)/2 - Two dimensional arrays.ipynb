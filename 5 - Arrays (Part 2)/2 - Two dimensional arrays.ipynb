{
 "cells": [
  {
   "cell_type": "markdown",
   "metadata": {},
   "source": [
    "# 5.2 - Two-dimensional arrays\n",
    "\n",
    "We have seen the idea that an array can hold values. You know what would be more epic?\n",
    "An array holding arrays! Such arrays are called two dimensional arrays.\n",
    "Two dimensional arrays are simple to make, just type out an array within an array:"
   ]
  },
  {
   "cell_type": "code",
   "execution_count": null,
   "metadata": {},
   "outputs": [],
   "source": [
    "x = [1, 2, 3, 4, 5] # A normal array\n",
    "y = [[2, 3], [10, 20, 30], 1]   # An array holding an array and a number.\n",
    "\n",
    "print(x)    # Output is [1, 2, 3, 4, 5] including brackets.\n",
    "print(y)    # Output is [[2, 3], [10, 20, 30], 1] including brackets."
   ]
  },
  {
   "cell_type": "markdown",
   "metadata": {},
   "source": [
    "Since a computer is all about memory addresses, we now have multiple addresses.\n",
    "\n",
    "But notice this, with the addition of an array within an array.\n",
    "\n",
    "We now have more memory addresses within a memory address.\n",
    "\n",
    "If we were to print out the value of y, that would be simple enough:"
   ]
  },
  {
   "cell_type": "code",
   "execution_count": null,
   "metadata": {},
   "outputs": [],
   "source": [
    "y = [[2, 3], [10, 20, 30], 1]\n",
    "\n",
    "print(y[1]) # Output is [10, 20, 30] including brackets."
   ]
  },
  {
   "cell_type": "markdown",
   "metadata": {},
   "source": [
    "Just as normal. But what if we want to print out a specific value of an array within an array?\n",
    "For example, let's say I want to print out the third index of the second array within the array.\n",
    "This means we want to print out 30. How do we achieve this?\n",
    "\n",
    "Just like how we have coordinates to depict points on a cartesian graph...\n",
    "We can also use the same method to print out a specific index of an array within an array:"
   ]
  },
  {
   "cell_type": "code",
   "execution_count": null,
   "metadata": {},
   "outputs": [],
   "source": [
    "y = [[2, 3], [10, 20, 30], 1]\n",
    "\n",
    "print(y[1][2])  # Output is 30 only."
   ]
  },
  {
   "cell_type": "markdown",
   "metadata": {},
   "source": [
    "With this, arrays can become very powerful very quickly.\n",
    "Since the array inside is like a normal array (apart from the fact it is inside another array)...\n",
    "We can create many different things with this, lets say a matrix of values for instance!\n",
    "\n",
    "First, let's create the blank matrix of 0s, of say 5x5, and add stuff onto it."
   ]
  },
  {
   "cell_type": "code",
   "execution_count": null,
   "metadata": {},
   "outputs": [],
   "source": [
    "matrix = [[0 for i in range(5)] for j in range(5)]  # Notice we used double for in a single line!\n",
    "\n",
    "# This creates a blank matrix of size 5x5. And now, we can assign values to it as so:\n",
    "\n",
    "matrix[3][2] = 2    # Assigning the 4th row, 3rd column the value of 2.\n",
    "\n",
    "print(matrix)\n",
    "# Output is: [[0, 0, 0, 0, 0], [0, 0, 0, 0, 0], [0, 0, 0, 0, 0], [0, 0, 2, 0, 0], [0, 0, 0, 0, 0]]"
   ]
  },
  {
   "cell_type": "markdown",
   "metadata": {},
   "source": [
    "Of course, we can use normal functions on arrays inside arrays like normal.\n",
    "All we have to do is make sure we assign the respective index to the end of the array.\n",
    "For example, lets take the matrix array, and append it to have 6 columns in the 3rd row...\n",
    "Therefore, we write:"
   ]
  },
  {
   "cell_type": "code",
   "execution_count": null,
   "metadata": {},
   "outputs": [],
   "source": [
    "matrix = [[0 for i in range(5)] for j in range(5)]\n",
    "\n",
    "matrix[2].append(6) # Add an extra value into the matrix.\n",
    "\n",
    "print(matrix)"
   ]
  },
  {
   "cell_type": "markdown",
   "metadata": {},
   "source": [
    "Now the 3rd array has one extra index which has the value 6 inside it.\n",
    "If I want to add another array to the list of arrays, I just simply reference the main array:"
   ]
  },
  {
   "cell_type": "code",
   "execution_count": null,
   "metadata": {},
   "outputs": [],
   "source": [
    "matrix = [[0 for i in range(5)] for j in range(5)]\n",
    "\n",
    "matrix.append([3, 5, 5, 2]) # Add an extra array into one of the arrays.\n",
    "\n",
    "print(matrix)"
   ]
  },
  {
   "cell_type": "markdown",
   "metadata": {},
   "source": [
    "Note that by using the same method of writing arrays within arrays, we can have more than 2D...\n",
    "We can reach 5 dimensional, 6 dimensional, even n dimensional arrays!"
   ]
  }
 ],
 "metadata": {
  "kernelspec": {
   "display_name": "Python 3.9.12 ('base')",
   "language": "python",
   "name": "python3"
  },
  "language_info": {
   "codemirror_mode": {
    "name": "ipython",
    "version": 3
   },
   "file_extension": ".py",
   "mimetype": "text/x-python",
   "name": "python",
   "nbconvert_exporter": "python",
   "pygments_lexer": "ipython3",
   "version": "3.9.12"
  },
  "orig_nbformat": 4,
  "vscode": {
   "interpreter": {
    "hash": "0e6b374874aea7398a3b4fe4b35def0208c11118029cb2a916bdc5a2d094b324"
   }
  }
 },
 "nbformat": 4,
 "nbformat_minor": 2
}
